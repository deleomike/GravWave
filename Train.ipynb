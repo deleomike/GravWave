{
 "cells": [
  {
   "cell_type": "code",
   "execution_count": 13,
   "id": "6fb36e0c-9109-45e3-ad32-046d49f8e568",
   "metadata": {},
   "outputs": [],
   "source": [
    "import torch\n",
    "import timm\n",
    "\n",
    "from src.util.sam import SAM\n",
    "from pytorch_lightning import LightningModule"
   ]
  },
  {
   "cell_type": "code",
   "execution_count": 14,
   "id": "24326efc-9c69-4f51-9c0a-1d8b18d26d9a",
   "metadata": {
    "tags": []
   },
   "outputs": [],
   "source": [
    "data_dir = \"./data\""
   ]
  },
  {
   "cell_type": "code",
   "execution_count": 29,
   "id": "0ffde9c4-45db-449d-adee-a2520537aabb",
   "metadata": {},
   "outputs": [],
   "source": [
    "class GravModel(LightningModule):\n",
    "    def __init__(self):\n",
    "        super().__init__()\n",
    "        self.model = timm.create_model('tf_efficientnet_l2_ns_475', pretrained=True)\n",
    "\n",
    "    def configure_optimizers(self):\n",
    "        base_optimizer = torch.optim.Adam\n",
    "        optimizer = SAM(self.parameters(), base_optimizer, lr=0.1, momentum=0.9)\n",
    "        return optimizer\n",
    "    \n",
    "    def forward(self, x):\n",
    "        x = 0\n",
    "        return self.model(x)"
   ]
  },
  {
   "cell_type": "code",
   "execution_count": null,
   "id": "f9afcc39-00b4-4ca0-84d1-e35ccb468b48",
   "metadata": {},
   "outputs": [],
   "source": []
  }
 ],
 "metadata": {
  "kernelspec": {
   "display_name": "Python 3",
   "language": "python",
   "name": "python3"
  },
  "language_info": {
   "codemirror_mode": {
    "name": "ipython",
    "version": 3
   },
   "file_extension": ".py",
   "mimetype": "text/x-python",
   "name": "python",
   "nbconvert_exporter": "python",
   "pygments_lexer": "ipython3",
   "version": "3.7.10"
  }
 },
 "nbformat": 4,
 "nbformat_minor": 5
}
